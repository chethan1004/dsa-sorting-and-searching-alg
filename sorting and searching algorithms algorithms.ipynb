{
 "cells": [
  {
   "cell_type": "raw",
   "id": "d3b9cd83",
   "metadata": {},
   "source": []
  },
  {
   "cell_type": "markdown",
   "id": "08836d4d",
   "metadata": {},
   "source": [
    "# array\n",
    "an array is data structure used to store multiple values\n",
    "\n",
    "array=[1,2,3,4,5,6]\n",
    "strarray=[\"hii\",\"hello\",\"world\"]\n",
    "array3=list(map(int,input(\"enter the array elements:\").split(\",\")))\n",
    "\n",
    "in this the elements are separated by , because we implimented function split inide that , is defined \n",
    "\n",
    "\n",
    "example to find the minimum value of a array\n"
   ]
  },
  {
   "cell_type": "code",
   "execution_count": 2,
   "id": "adc403af",
   "metadata": {},
   "outputs": [
    {
     "name": "stdout",
     "output_type": "stream",
     "text": [
      "11\n",
      "11\n"
     ]
    }
   ],
   "source": [
    "array=[28,32,51,11,67,83]\n",
    "# x=min(array)\n",
    "# print(x)\n",
    "minval=array[0]\n",
    "for i in array:\n",
    "    if i<minval:\n",
    "        minval=i\n",
    "print(minval)"
   ]
  },
  {
   "cell_type": "markdown",
   "id": "808bd0d8",
   "metadata": {},
   "source": [
    "# bubble sort \n",
    "Bubble Sort is an algorithm that sorts an array from the lowest value to the highest value.\n",
    "\n",
    "How it works:\n",
    "Go through the array, one value at a time.\n",
    "For each value, compare the value with the next value.\n",
    "If the value is higher than the next one, swap the values so that the highest value comes last.\n",
    "Go through the array as many times as there are values in the array.\n",
    "\n",
    "The Bubble Sort algorithm loops through every value in the array, comparing it to the value next to it. So for an array of \n",
    "n values, there must be n such comparisons in one loop.\n",
    "\n",
    "And after one loop, the array is looped through again and again  n times.\n",
    "\n",
    "This means there are n*n comparisons done in total, so the time complexity for Bubble Sort is:\n",
    "\n",
    "O(n*n)\n"
   ]
  },
  {
   "cell_type": "code",
   "execution_count": 4,
   "id": "3d216f01",
   "metadata": {},
   "outputs": [
    {
     "name": "stdout",
     "output_type": "stream",
     "text": [
      "8 raw array [64, 34, 25, 12, 22, 11, 90, 5]\n",
      "sorted array  [5, 11, 12, 22, 25, 34, 64, 90]\n"
     ]
    }
   ],
   "source": [
    "array=[64, 34, 25, 12, 22, 11, 90, 5]\n",
    "n=len(array)\n",
    "print(n,\"raw array\",array)\n",
    "for i in range(n-1):\n",
    "    for j in range(n-i-1):\n",
    "        if array[j]>array[j+1]:\n",
    "            array[j],array[j+1]=array[j+1],array[j]\n",
    "            #print(array) if we want to print after every iteration\n",
    "print(\"sorted array \",array)\n"
   ]
  },
  {
   "cell_type": "code",
   "execution_count": 3,
   "id": "8c3b6019",
   "metadata": {},
   "outputs": [
    {
     "name": "stdout",
     "output_type": "stream",
     "text": [
      "Sorted array: [3, 7, 9, 11, 12]\n"
     ]
    }
   ],
   "source": [
    "my_array = [7, 3, 9, 12, 11]\n",
    "\n",
    "n = len(my_array)\n",
    "for i in range(n-1):\n",
    "    swapped = False\n",
    "    for j in range(n-i-1):\n",
    "        if my_array[j] > my_array[j+1]:\n",
    "            my_array[j], my_array[j+1] = my_array[j+1], my_array[j]\n",
    "            swapped = True\n",
    "            #print(my_array) if we want to print after every iteration\n",
    "    if not swapped:\n",
    "        break\n",
    "\n",
    "print(\"Sorted array:\", my_array)"
   ]
  },
  {
   "cell_type": "markdown",
   "id": "1a99f7f9",
   "metadata": {},
   "source": [
    "# Selection Sort\n",
    "The Selection Sort algorithm finds the lowest value in an array and moves it to the front of the array.\n"
   ]
  },
  {
   "cell_type": "code",
   "execution_count": null,
   "id": "70a55dd1",
   "metadata": {},
   "outputs": [],
   "source": [
    "# steps\n",
    "# first find the length of the array assined as n\n",
    "# for loop range from 0 to n-1\n",
    "# now assign min_index=i here initially it will take min_index=0\n",
    "# for j loop range from i+1 to n\n",
    "# if jth element means 2nd element is lesser than min_index th element that means 1st element\n",
    "# now consider min_index=j \n",
    "# now pop the min_index element and give one variable to it consider min_value\n",
    "# now insert the min_value element in the the place i\n",
    "# print the sorted array\n",
    "\n",
    "\n",
    "# to find the time taken to complete the program is that we need to calculate \n",
    "# the time differnece from the start of the for loop to the end of the foor loop \n"
   ]
  },
  {
   "cell_type": "code",
   "execution_count": 8,
   "id": "0d6b1f9d",
   "metadata": {},
   "outputs": [
    {
     "name": "stdout",
     "output_type": "stream",
     "text": [
      "unsorted array [64, 34, 25, 5, 22, 11, 90, 12]\n",
      "unsorted array [5, 64, 34, 25, 22, 11, 90, 12]\n",
      "unsorted array [5, 11, 64, 34, 25, 22, 90, 12]\n",
      "unsorted array [5, 11, 12, 64, 34, 25, 22, 90]\n",
      "unsorted array [5, 11, 12, 22, 64, 34, 25, 90]\n",
      "unsorted array [5, 11, 12, 22, 25, 64, 34, 90]\n",
      "unsorted array [5, 11, 12, 22, 25, 34, 64, 90]\n",
      "time taken to execute the programe is 0.0010120868682861328\n",
      "selection sorted array [5, 11, 12, 22, 25, 34, 64, 90]\n"
     ]
    }
   ],
   "source": [
    "import time\n",
    "start_time=time.time()\n",
    "array = [64, 34, 25, 5, 22, 11, 90, 12]\n",
    "n=len(array)\n",
    "for i in range(n-1):\n",
    "    min_index=i\n",
    "    for j in range(i+1,n):\n",
    "        if array[j]<array[min_index]:\n",
    "            min_index=j\n",
    "    print(\"unsorted array\",array)\n",
    "    min_value=array.pop(min_index)\n",
    "    array.insert(i,min_value)\n",
    "end_time=time.time()\n",
    "print(f\"time taken to execute the programe is {end_time-start_time}\")\n",
    "print(\"selection sorted array\",array)"
   ]
  },
  {
   "cell_type": "code",
   "execution_count": 6,
   "id": "d34f58fc",
   "metadata": {},
   "outputs": [
    {
     "name": "stdout",
     "output_type": "stream",
     "text": [
      "Unsorted array before placing minimum: [64, 34, 25, 5, 22, 11, 90, 12]\n",
      "Unsorted array before placing minimum: [5, 64, 34, 25, 22, 11, 90, 12]\n",
      "Unsorted array before placing minimum: [5, 11, 64, 34, 25, 22, 90, 12]\n",
      "Unsorted array before placing minimum: [5, 11, 12, 64, 34, 25, 22, 90]\n",
      "Unsorted array before placing minimum: [5, 11, 12, 22, 64, 34, 25, 90]\n",
      "Unsorted array before placing minimum: [5, 11, 12, 22, 25, 64, 34, 90]\n",
      "Unsorted array before placing minimum: [5, 11, 12, 22, 25, 34, 64, 90]\n",
      "Selection sorted array: [5, 11, 12, 22, 25, 34, 64, 90]\n",
      "Time taken: 0.001000 seconds\n"
     ]
    }
   ],
   "source": [
    "import time\n",
    "\n",
    "array = [64, 34, 25, 5, 22, 11, 90, 12]\n",
    "n = len(array)\n",
    "\n",
    "# Start time measurement\n",
    "start_time = time.time()\n",
    "\n",
    "for i in range(n-1):\n",
    "    min_index = i\n",
    "    for j in range(i+1, n):\n",
    "        if array[j] < array[min_index]:\n",
    "            min_index = j\n",
    "    print(\"Unsorted array before placing minimum:\", array)  # Print before placing minimum\n",
    "    min_value = array.pop(min_index)\n",
    "    array.insert(i, min_value)\n",
    "\n",
    "# End time measurement\n",
    "end_time = time.time()\n",
    "\n",
    "print(\"Selection sorted array:\", array)\n",
    "# Calculate and print the time taken\n",
    "print(\"Time taken: {:.6f} seconds\".format(end_time - start_time))\n"
   ]
  },
  {
   "cell_type": "markdown",
   "id": "0a564468",
   "metadata": {},
   "source": [
    "# Insertion Sort\n",
    "\n",
    "The Insertion Sort algorithm uses one part of the array to hold the sorted values\n",
    ", and the other part of the array to hold values that are not sorted yet.\n",
    "\n",
    "\n",
    "The algorithm takes one value at a time from the unsorted part of the array\n",
    "and puts it into the right place in the sorted part of the array, until the array is sorted.\n",
    "\n",
    "How it works:\n",
    "Take the first value from the unsorted part of the array.\n",
    "Move the value into the correct place in the sorted part of the array.\n",
    "Go through the unsorted part of the array again as many times as there are values.\n",
    "\n",
    "general explanation how this algorithm works \n",
    "first take the 1st element and consider that it is sorted it is sorted part of the array\n",
    "after that take 2nd element and insert before or after the first element accordingly\n",
    "\n",
    "\n",
    "my_array = [64, 34, 25, 12, 22, 11, 90, 5]\n",
    "\n",
    "n = len(my_array)\n",
    "for i in range(1,n):\n",
    "    insert_index = i\n",
    "    current_value = my_array.pop(i)\n",
    "    for j in range(i-1, -1, -1):\n",
    "        if my_array[j] > current_value:\n",
    "            insert_index = j\n",
    "    my_array.insert(insert_index, current_value)\n",
    "\n",
    "print(\"Sorted array:\", my_array)"
   ]
  },
  {
   "cell_type": "code",
   "execution_count": 5,
   "id": "c86e6cd8",
   "metadata": {},
   "outputs": [
    {
     "name": "stdout",
     "output_type": "stream",
     "text": [
      "sorted array is  [5, 11, 12, 22, 25, 34, 64, 90]\n"
     ]
    }
   ],
   "source": [
    "array=[64, 34, 25, 12, 22, 11, 90, 5]\n",
    "n=len(array)\n",
    "#here first element is sorted and from 2nd to last element is unsorted array\n",
    "for i in range(1,n):\n",
    "    insert_index=i #because first element is already sorted in the oth index\n",
    "    current_value=array.pop(i)\n",
    "    for j in range(i-1,-1,-1):\n",
    "        if array[j]>current_value:\n",
    "            insert_index=j\n",
    "    array.insert(insert_index,current_value)\n",
    "print(\"sorted array is \",array)\n",
    "            \n",
    "        "
   ]
  },
  {
   "cell_type": "code",
   "execution_count": 6,
   "id": "388e29ad",
   "metadata": {},
   "outputs": [
    {
     "name": "stdout",
     "output_type": "stream",
     "text": [
      "Sorted array: [5, 11, 12, 22, 25, 34, 64, 90]\n"
     ]
    }
   ],
   "source": [
    "my_array = [64, 34, 25, 12, 22, 11, 90, 5]\n",
    "\n",
    "n = len(my_array)\n",
    "for i in range(1,n):\n",
    "    insert_index = i\n",
    "    current_value = my_array.pop(i)\n",
    "    for j in range(i-1, -1, -1):\n",
    "        if my_array[j] > current_value:\n",
    "            insert_index = j\n",
    "    my_array.insert(insert_index, current_value)\n",
    "\n",
    "print(\"Sorted array:\", my_array)"
   ]
  },
  {
   "cell_type": "markdown",
   "id": "55e3de46",
   "metadata": {},
   "source": [
    "# Quick sort\n",
    " \n",
    "As the name suggests, Quicksort is one of the fastest sorting algorithms.\n",
    "\n",
    "The Quicksort algorithm takes an array of values, chooses one of the values as the 'pivot' element, and moves the \n",
    "other values so that lower values are on the left of the pivot element, and higher values are on the right of it.\n",
    "\n",
    "How it works:\n",
    "\n",
    "Choose a value in the array to be the pivot element.\n",
    "Order the rest of the array so that lower values than the pivot element are on the left, and higher values are on the right.\n",
    "Swap the pivot element with the first element of the higher values so that the pivot element lands in between the lower and higher values.\n",
    "Do the same operations (recursively) for the sub-arrays on the left and right side of the pivot element."
   ]
  },
  {
   "cell_type": "code",
   "execution_count": 3,
   "id": "2b3ef527",
   "metadata": {},
   "outputs": [
    {
     "name": "stdout",
     "output_type": "stream",
     "text": [
      "Original array: [10, 7, 8, 9, 1, 5]\n",
      "Sorted array: [1, 5, 7, 8, 9, 10]\n"
     ]
    }
   ],
   "source": [
    "def partition(arr, low, high):\n",
    "    pivot = arr[high]  # Choose the last element as the pivot\n",
    "    i = low - 1  # Index of the smaller element\n",
    "\n",
    "    for j in range(low, high):\n",
    "        if arr[j] <= pivot:  # If current element is smaller than or equal to the pivot\n",
    "            i += 1  # Increment the index of the smaller element\n",
    "            arr[i], arr[j] = arr[j], arr[i]  # Swap the elements\n",
    "\n",
    "    arr[i+1], arr[high] = arr[high], arr[i+1]  # Place pivot in its correct position\n",
    "    return i + 1  # Return the partition index\n",
    "\n",
    "def quicksort(arr, low, high):\n",
    "    if low < high:\n",
    "        pi = partition(arr, low, high)  # pi is the partitioning index\n",
    "\n",
    "        # Recursively apply quicksort on the left and right parts\n",
    "        quicksort(arr, low, pi - 1)  # Before the pivot\n",
    "        quicksort(arr, pi + 1, high)  # After the pivot\n",
    "\n",
    "# Test array\n",
    "arr = [10, 7, 8, 9, 1, 5]\n",
    "n = len(arr)\n",
    "print(\"Original array:\", arr)\n",
    "quicksort(arr, 0, n-1)\n",
    "print(\"Sorted array:\", arr)\n"
   ]
  },
  {
   "cell_type": "markdown",
   "id": "795985d4",
   "metadata": {},
   "source": [
    "# counting sort \n",
    "\n",
    "The Counting Sort algorithm sorts an array by counting the number of times each value occurs\n",
    "\n",
    "How it works:\n",
    "\n",
    "Create a new array for counting how many there are of the different values.\n",
    "Go through the array that needs to be sorted.\n",
    "For each value, count it by increasing the counting array at the corresponding index.\n",
    "After counting the values, go through the counting array to create the sorted array.\n",
    "For each count in the counting array, create the correct number of elements, with values that correspond to the counting array index."
   ]
  },
  {
   "cell_type": "code",
   "execution_count": 3,
   "id": "3a2c31cc",
   "metadata": {},
   "outputs": [
    {
     "name": "stdout",
     "output_type": "stream",
     "text": [
      "Sorted array: [1, 2, 2, 2, 3, 3, 3, 4, 5, 6, 6]\n"
     ]
    }
   ],
   "source": [
    "def countingSort(arr):\n",
    "    max_val = max(arr)\n",
    "    count = [0] * (max_val + 1)\n",
    "\n",
    "    while len(arr) > 0:\n",
    "        num = arr.pop(0)\n",
    "        count[num] += 1\n",
    "\n",
    "    for i in range(len(count)):\n",
    "        while count[i] > 0:\n",
    "            arr.append(i)\n",
    "            count[i] -= 1\n",
    "\n",
    "    return arr\n",
    "\n",
    "unsortedArr = [4, 2, 2, 6, 3, 3, 1, 6, 5, 2, 3]\n",
    "sortedArr = countingSort(unsortedArr)\n",
    "print(\"Sorted array:\", sortedArr)"
   ]
  },
  {
   "cell_type": "code",
   "execution_count": null,
   "id": "54563e70",
   "metadata": {},
   "outputs": [],
   "source": []
  },
  {
   "cell_type": "code",
   "execution_count": null,
   "id": "27863aaf",
   "metadata": {},
   "outputs": [],
   "source": []
  },
  {
   "cell_type": "markdown",
   "id": "59469e2e",
   "metadata": {},
   "source": [
    "# searching algorithms\n",
    " there are 2 types of searching algorithms \n",
    " 1.linear search\n",
    " 2.binary search \n",
    " "
   ]
  },
  {
   "cell_type": "markdown",
   "id": "cd213120",
   "metadata": {},
   "source": [
    "# Linear Search\n",
    "\n",
    "The Linear Search algorithm searches through an array and returns the index of the value it searches for.\n",
    "\n",
    "How it works:\n",
    "\n",
    "Go through the array value by value from the start.\n",
    "Compare each value to check if it is equal to the value we are looking for.\n",
    "If the value is found, return the index of that value.\n",
    "If the end of the array is reached and the value is not found, return -1 to indicate that the value was not found."
   ]
  },
  {
   "cell_type": "code",
   "execution_count": 12,
   "id": "77ca2577",
   "metadata": {},
   "outputs": [
    {
     "name": "stdout",
     "output_type": "stream",
     "text": [
      "target element found at index (0, 1) \n"
     ]
    }
   ],
   "source": []
  },
  {
   "cell_type": "code",
   "execution_count": 5,
   "id": "d19d853b",
   "metadata": {},
   "outputs": [
    {
     "name": "stdout",
     "output_type": "stream",
     "text": [
      "Value 9 found at index 3\n"
     ]
    }
   ],
   "source": [
    "def linearSearch(arr, targetVal):\n",
    "    for i in range(len(arr)):\n",
    "        if arr[i] == targetVal:\n",
    "            return i\n",
    "    return -1\n",
    "\n",
    "arr = [3, 7, 2, 9, 5]\n",
    "targetVal = 9\n",
    "\n",
    "result = linearSearch(arr, targetVal)\n",
    "\n",
    "if result != -1:\n",
    "    print(\"Value\",targetVal,\"found at index\",result)\n",
    "else:\n",
    "    print(\"Value\",targetVal,\"not found\")"
   ]
  },
  {
   "cell_type": "code",
   "execution_count": 14,
   "id": "0fc39b33",
   "metadata": {},
   "outputs": [
    {
     "name": "stdout",
     "output_type": "stream",
     "text": [
      "target element found at index (1, 2) \n"
     ]
    }
   ],
   "source": [
    "def linearsearch(array,target):\n",
    "    n=len(array)\n",
    "    for i in range(n-1):\n",
    "        for j in range(1,n):\n",
    "            if array[i]+array[j]==target:\n",
    "                return i,j\n",
    "    return -1\n",
    "\n",
    "\n",
    "array=[21,31,42,15,26,28]\n",
    "target=73\n",
    "\n",
    "x=linearsearch(array,target)\n",
    "if x!=-1:\n",
    "    print(f\"target element found at index {x} \")\n",
    "else:\n",
    "    print(\"target element is not found\")"
   ]
  },
  {
   "cell_type": "markdown",
   "id": "42bf6e66",
   "metadata": {},
   "source": [
    "# binary search\n"
   ]
  },
  {
   "cell_type": "code",
   "execution_count": 2,
   "id": "a65196cf",
   "metadata": {},
   "outputs": [
    {
     "name": "stdout",
     "output_type": "stream",
     "text": [
      "Value found at index 7\n"
     ]
    }
   ],
   "source": [
    "def binarysearch(array, targetvalue):\n",
    "    left = 0\n",
    "    right = len(array) - 1\n",
    "\n",
    "    while left <= right:\n",
    "        mid = (left + right) // 2  # Corrected mid calculation\n",
    "\n",
    "        if array[mid] == targetvalue:\n",
    "            return mid\n",
    "\n",
    "        if array[mid] < targetvalue:\n",
    "            left = mid + 1\n",
    "        else:\n",
    "            right = mid - 1\n",
    "\n",
    "    return -1\n",
    "\n",
    "array = [1, 3, 5, 7, 9, 11, 13, 15, 17, 19]\n",
    "targetvalue = 15\n",
    "result = binarysearch(array, targetvalue)\n",
    "\n",
    "if result != -1:\n",
    "    print(f\"Value found at index {result}\")\n",
    "else:\n",
    "    print(\"Value not found\")\n"
   ]
  },
  {
   "cell_type": "code",
   "execution_count": null,
   "id": "c30860b3",
   "metadata": {},
   "outputs": [],
   "source": [
    "def binarySearch(arr, targetVal):\n",
    "    left = 0\n",
    "    right = len(arr) - 1\n",
    "\n",
    "    while left <= right:\n",
    "        mid = (left + right) // 2\n",
    "\n",
    "        if arr[mid] == targetVal:\n",
    "            return mid\n",
    "        \n",
    "        if arr[mid] < targetVal:\n",
    "            left = mid + 1\n",
    "        else:\n",
    "            right = mid - 1\n",
    "\n",
    "    return -1\n",
    "\n",
    "myArray = [1, 3, 5, 7, 9, 11, 13, 15, 17, 19]\n",
    "myTarget = 15\n",
    "\n",
    "result = binarySearch(myArray, myTarget)\n",
    "\n",
    "if result != -1:\n",
    "    print(\"Value\",myTarget,\"found at index\", result)\n",
    "else:\n",
    "    print(\"Target not found in array.\")"
   ]
  },
  {
   "cell_type": "code",
   "execution_count": null,
   "id": "f8e7a442",
   "metadata": {},
   "outputs": [],
   "source": []
  },
  {
   "cell_type": "code",
   "execution_count": null,
   "id": "50bf5cfa",
   "metadata": {},
   "outputs": [],
   "source": []
  }
 ],
 "metadata": {
  "kernelspec": {
   "display_name": "Python 3 (ipykernel)",
   "language": "python",
   "name": "python3"
  },
  "language_info": {
   "codemirror_mode": {
    "name": "ipython",
    "version": 3
   },
   "file_extension": ".py",
   "mimetype": "text/x-python",
   "name": "python",
   "nbconvert_exporter": "python",
   "pygments_lexer": "ipython3",
   "version": "3.11.5"
  }
 },
 "nbformat": 4,
 "nbformat_minor": 5
}
